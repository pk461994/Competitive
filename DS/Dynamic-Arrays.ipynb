{
 "cells": [
  {
   "cell_type": "code",
   "execution_count": 1,
   "id": "613e23d6",
   "metadata": {},
   "outputs": [],
   "source": [
    "'''\n",
    "Given 2 strings check that both are anograms.\n",
    "Anograms is when 2 strings are written with exact same letters\n",
    "(so we can rearrange the letters to get the different phrase or word)\n",
    "\n",
    "Eg, 'public relations' is anogram of 'crap built on lies'\n",
    "'client eastwood' is anogram of 'old west action'\n",
    "NOTE: Ignore spaces and capitalization. So 'd go' is anogram of 'god' or 'dog'\n",
    "'''\n",
    "\n",
    "def anogram(str1, str2):\n",
    "    #Remove spaces and upper case\n",
    "    str1 = str1.replace(' ','').lower() #Replace spaces with no space and make it lower case\n",
    "    str2 = str2.replace(' ','').lower()\n",
    "    \n",
    "    #Return boolean for sorted match\n",
    "    return sorted(str1) == sorted(str2)"
   ]
  },
  {
   "cell_type": "code",
   "execution_count": 2,
   "id": "0e6bf60a",
   "metadata": {},
   "outputs": [
    {
     "data": {
      "text/plain": [
       "True"
      ]
     },
     "execution_count": 2,
     "metadata": {},
     "output_type": "execute_result"
    }
   ],
   "source": [
    "anogram('gOd','doG')"
   ]
  },
  {
   "cell_type": "code",
   "execution_count": 3,
   "id": "bba0bcfe",
   "metadata": {},
   "outputs": [
    {
     "data": {
      "text/plain": [
       "True"
      ]
     },
     "execution_count": 3,
     "metadata": {},
     "output_type": "execute_result"
    }
   ],
   "source": [
    "anogram('public relAtions','Crap built oN lies')"
   ]
  },
  {
   "cell_type": "code",
   "execution_count": 4,
   "id": "7ffb4e99",
   "metadata": {},
   "outputs": [
    {
     "data": {
      "text/plain": [
       "True"
      ]
     },
     "execution_count": 4,
     "metadata": {},
     "output_type": "execute_result"
    }
   ],
   "source": [
    "anogram('Clint eastw  ood','old west action')"
   ]
  },
  {
   "cell_type": "code",
   "execution_count": 5,
   "id": "dc47843b",
   "metadata": {},
   "outputs": [
    {
     "data": {
      "text/plain": [
       "True"
      ]
     },
     "execution_count": 5,
     "metadata": {},
     "output_type": "execute_result"
    }
   ],
   "source": [
    "def anogram2(s1, s2):\n",
    "    s1 = s1.replace(' ','').lower()\n",
    "    s2 = s2.replace(' ','').lower()\n",
    "    \n",
    "    #Check s1 and s2 have same number of letters\n",
    "    if len(s1) != len(s2):\n",
    "        return False\n",
    "    \n",
    "    #Count frequency of each letter\n",
    "    count= {}\n",
    "    \n",
    "    for letter in s1:         #For every letter in first string\n",
    "        if letter in count:   #If the letter is already in my dictionary\n",
    "            count[letter] += 1 #Add 1 to the letter key\n",
    "        else:\n",
    "            count[letter] = 1\n",
    "    \n",
    "    # Now do reverse for string 2\n",
    "    for letter in s2:\n",
    "        if letter in count:\n",
    "            count[letter] -= 1\n",
    "        else:\n",
    "            count[letter] = 1\n",
    "    \n",
    "    for k in count:\n",
    "        if count[k] != 0:\n",
    "            return False\n",
    "    \n",
    "    return True\n",
    "\n",
    "anogram('Clint eastw  ood','old west action')"
   ]
  },
  {
   "cell_type": "code",
   "execution_count": 6,
   "id": "61fdea33",
   "metadata": {},
   "outputs": [
    {
     "name": "stdout",
     "output_type": "stream",
     "text": [
      "(1, 3)\n",
      "(2, 2)\n"
     ]
    }
   ],
   "source": [
    "'''\n",
    "Array pair sum. Given an integer array, output all the unique parts that sum up to a specific value k\n",
    "So the input pair sum ([1,3,2,2],4) would return (1,3) (2,2)\n",
    "'''\n",
    "\n",
    "def pair_sum(array, k):\n",
    "    if len(array) < 2:\n",
    "        print('Array is too small')\n",
    "\n",
    "    seen = set()\n",
    "    output = set()\n",
    "\n",
    "    for num in array:\n",
    "        target = k - num\n",
    "\n",
    "        if target not in seen:\n",
    "            seen.add(num)\n",
    "        else:\n",
    "            output.add((min(num, target), max(num, target)))\n",
    "\n",
    "    print('\\n'.join(map(str, list(output))))\n",
    "\n",
    "pair_sum([1,3,2,2], 4)"
   ]
  },
  {
   "cell_type": "code",
   "execution_count": 7,
   "id": "9019dc3f",
   "metadata": {},
   "outputs": [
    {
     "data": {
      "text/plain": [
       "38"
      ]
     },
     "execution_count": 7,
     "metadata": {},
     "output_type": "execute_result"
    }
   ],
   "source": [
    "'''\n",
    "Largest sum.\n",
    "Take an array with positive and negative integers and find max sum of that array \n",
    "'''\n",
    "\n",
    "def largest(arr):\n",
    "    if len(arr) == 0:\n",
    "        print('Array too small')\n",
    "        \n",
    "    max_sum = current_sum = arr[0]\n",
    "    \n",
    "    for num in arr[1:]:\n",
    "        current_sum = max(current_sum+num, num)\n",
    "        max_sum = max(current_sum, max_sum)\n",
    "        \n",
    "    return max_sum\n",
    "largest([7,1,2,-1,3,4,10,-12,3,21,-19])"
   ]
  },
  {
   "cell_type": "code",
   "execution_count": 8,
   "id": "2c5ec8fc",
   "metadata": {},
   "outputs": [
    {
     "data": {
      "text/plain": [
       "'Jha Prashant am I'"
      ]
     },
     "execution_count": 8,
     "metadata": {},
     "output_type": "execute_result"
    }
   ],
   "source": [
    "#Reverse String 1\n",
    "\n",
    "def reverse_str(s):\n",
    "    return ' '.join(reversed(s.split()))\n",
    "\n",
    "reverse_str('I am Prashant Jha')"
   ]
  },
  {
   "cell_type": "code",
   "execution_count": 9,
   "id": "57f6f040",
   "metadata": {},
   "outputs": [
    {
     "data": {
      "text/plain": [
       "'Jha Prashant am I'"
      ]
     },
     "execution_count": 9,
     "metadata": {},
     "output_type": "execute_result"
    }
   ],
   "source": [
    "#Reverse String 2\n",
    "\n",
    "def reverse_str(s):\n",
    "    return ' '.join(s.split()[::-1])\n",
    "\n",
    "reverse_str('I am Prashant Jha')"
   ]
  },
  {
   "cell_type": "code",
   "execution_count": 10,
   "id": "78b495b3",
   "metadata": {},
   "outputs": [
    {
     "name": "stdout",
     "output_type": "stream",
     "text": [
      "Splitted string is ['I', 'am', 'Prashant', 'Jha']\n",
      "Total length of index is 3\n"
     ]
    },
    {
     "data": {
      "text/plain": [
       "'Jha Prashant am I'"
      ]
     },
     "execution_count": 10,
     "metadata": {},
     "output_type": "execute_result"
    }
   ],
   "source": [
    "#Reverse String 3. Order of words\n",
    "\n",
    "def reverse_str(s):\n",
    "    l = s.split()\n",
    "    print(f'Splitted string is {l}')\n",
    "    words = []\n",
    "    output = ''\n",
    "    i = len(l) - 1\n",
    "    print(f'Total length of index is {i}')\n",
    "    \n",
    "    while i >= 0:\n",
    "        words.append(l[i])\n",
    "        i -=1\n",
    "    return ' '.join(words)\n",
    "\n",
    "reverse_str('I am Prashant Jha')"
   ]
  },
  {
   "cell_type": "code",
   "execution_count": 11,
   "id": "f15f03b3",
   "metadata": {},
   "outputs": [
    {
     "name": "stdout",
     "output_type": "stream",
     "text": [
      "Splitted string is ['I', 'am', 'Prashant', 'Jha']\n",
      "Total length of index is 3\n"
     ]
    },
    {
     "data": {
      "text/plain": [
       "'ahJ tnahsarP ma I'"
      ]
     },
     "execution_count": 11,
     "metadata": {},
     "output_type": "execute_result"
    }
   ],
   "source": [
    "#Reverse String 3. Order of letters and words together\n",
    "\n",
    "def reverse_str(s):\n",
    "    l = s.split()\n",
    "    print(f'Splitted string is {l}')\n",
    "    words = []\n",
    "    output = ''\n",
    "    i = len(l) - 1\n",
    "    print(f'Total length of index is {i}')\n",
    "    \n",
    "    while i >= 0:\n",
    "        words.append(l[i][::-1])\n",
    "        i -=1\n",
    "    return ' '.join(words)\n",
    "\n",
    "reverse_str('I am Prashant Jha')"
   ]
  },
  {
   "cell_type": "code",
   "execution_count": 12,
   "id": "3b45896e",
   "metadata": {},
   "outputs": [
    {
     "name": "stdout",
     "output_type": "stream",
     "text": [
      "Splitted string is ['I', 'am', 'Prashant', 'Jha']\n"
     ]
    },
    {
     "data": {
      "text/plain": [
       "'I ma tnahsarP ahJ'"
      ]
     },
     "execution_count": 12,
     "metadata": {},
     "output_type": "execute_result"
    }
   ],
   "source": [
    "#Reverse String 3. Order of words\n",
    "\n",
    "def reverse_str(s):\n",
    "    l = s.split()\n",
    "    print(f'Splitted string is {l}')\n",
    "    words = []\n",
    "    i = 0\n",
    "    \n",
    "    while i < len(l):\n",
    "        words.append(l[i][::-1])\n",
    "        i +=1\n",
    "    return ' '.join(words)\n",
    "\n",
    "reverse_str('I am Prashant Jha')"
   ]
  },
  {
   "cell_type": "code",
   "execution_count": 13,
   "id": "eeacd729",
   "metadata": {},
   "outputs": [
    {
     "data": {
      "text/plain": [
       "True"
      ]
     },
     "execution_count": 13,
     "metadata": {},
     "output_type": "execute_result"
    }
   ],
   "source": [
    "'''\n",
    "Giver 2 arrays(assume no duplicates) \n",
    "Is one array a rotation of other- return True or False\n",
    "same size and element but start index is different\n",
    "\n",
    "Big(O) we're going through each array 2X but O(2n) = O(n) since infinites sized list, constant doesn't matter\n",
    "\n",
    "\n",
    "Select an indexed position in list1 and get its value. Find same element in list2 and check index for index from there\n",
    "If any variation then we know its False. Getting to last item without False is True.\n",
    "'''\n",
    "\n",
    "def rotation(list1, list2):\n",
    "    if len(list1) != len(list2):\n",
    "        return False\n",
    "    \n",
    "    key = list1[0]\n",
    "    '''\n",
    "    What we'll be counting as we're looking through the 2nd list to see at what number the value is in that index position\n",
    "    We want to iterate through lists to trying to find this key starting at index 0\n",
    "    '''\n",
    "    key_index = 0\n",
    "    \n",
    "    '''\n",
    "    Let's say i is at 2, if the element at position 2 let's say it's 5 equals the 1st index element of list1\n",
    "    The key_index will be 5\n",
    "    '''\n",
    "    for i in range(len(list2)):\n",
    "        if list2[i] == key:\n",
    "            key_index = i\n",
    "            break\n",
    "        \n",
    "    if key_index == 0:\n",
    "        return False\n",
    "    \n",
    "    '''\n",
    "    Iterate through list 1 until we find that element of list2 that matches by changing the index of list2\n",
    "    '''\n",
    "    for x in range(len(list1)):\n",
    "        l2index = (key_index + x) % len(list1)\n",
    "        \n",
    "        if list1[x] != list2[l2index]:\n",
    "            return False\n",
    "    return True\n",
    "\n",
    "rotation([1,2,3,4,5,6,7], [4,5,6,7,1,2,3])"
   ]
  },
  {
   "cell_type": "code",
   "execution_count": 17,
   "id": "b5188106",
   "metadata": {},
   "outputs": [
    {
     "data": {
      "text/plain": [
       "[1, 4, 9]"
      ]
     },
     "execution_count": 17,
     "metadata": {},
     "output_type": "execute_result"
    }
   ],
   "source": [
    "'''\n",
    "Common elements in two sorted array\n",
    "The common element between [1,3,4,6,7,9] and [1,2,4,5,9,10] is [1,4,9]\n",
    "'''\n",
    "\n",
    "def common_elements(list1, list2):\n",
    "    p1 = 0 # Pointer for index 0 for list1\n",
    "    p2 = 0 # Pointer for index 0 for list2\n",
    "    \n",
    "    result = []\n",
    "    \n",
    "    while p1<len(list1) and p2<len(list2):\n",
    "        if list1[p1] == list2[p2]:\n",
    "            result.append(list1[p1])\n",
    "            p1+=1\n",
    "            p2+=2\n",
    "        elif list1[p1] > list2[p2]:\n",
    "            p2+=1\n",
    "        else:\n",
    "            p1+=1\n",
    "    return result\n",
    "common_elements([1,3,4,6,7,9], [1,2,4,5,9,10])    "
   ]
  },
  {
   "cell_type": "code",
   "execution_count": 2,
   "id": "df321dd2",
   "metadata": {},
   "outputs": [
    {
     "data": {
      "text/plain": [
       "[3, 6, 7]"
      ]
     },
     "execution_count": 2,
     "metadata": {},
     "output_type": "execute_result"
    }
   ],
   "source": [
    "# Common elements in two sorted array\n",
    "\n",
    "def common_member(list1, list2):\n",
    "    result = [item for item in list1 if item not in list2]\n",
    "    return result\n",
    "common_member([1,3,4,6,7,9], [1,2,4,5,9,10]) "
   ]
  },
  {
   "cell_type": "code",
   "execution_count": 10,
   "id": "c86ac254",
   "metadata": {},
   "outputs": [
    {
     "name": "stdout",
     "output_type": "stream",
     "text": [
      "[[-1, 0, 0, 0], [0, 0, -1, 0], [0, 0, 0, 0]]\n"
     ]
    }
   ],
   "source": [
    "'''\n",
    "Minesweeper\n",
    "mine_sweeper ([0,0], [1,2],3,4)\n",
    "3 rows 4 columns\n",
    "Return a 3x4 array (-1) = bomb\n",
    "'''\n",
    "\n",
    "def mine_sweeper(bomb, num_rows, num_cols):\n",
    "    field = [[0 for i in range(num_cols)] for j in range(num_rows)]\n",
    "    \n",
    "    for bomb_location in bomb:\n",
    "        (bomb_row, bomb_col) = bomb_location\n",
    "        field[bomb_row][bomb_col] = -1\n",
    "        row_range = range(bomb_row - 1, bomb_row + 2)\n",
    "        col_range = range(bomb_col - 1, bomb_col + 2)\n",
    "        \n",
    "        for i in row_range:\n",
    "            current_i = i\n",
    "            for j in col_range:\n",
    "                current_j = j\n",
    "                if (0<=i < num_rows and 0<=j < num_cols and field[i][j != -1]):\n",
    "                    field[i][j] += 1\n",
    "    return field\n",
    "        \n",
    "print(mine_sweeper([[0,0], [1,2]], 3, 4))"
   ]
  },
  {
   "cell_type": "code",
   "execution_count": 13,
   "id": "7ede1fdf",
   "metadata": {},
   "outputs": [
    {
     "name": "stdout",
     "output_type": "stream",
     "text": [
      "3\n"
     ]
    }
   ],
   "source": [
    "# Most common element in a list\n",
    "def most_frequent(list):\n",
    "    count = {}\n",
    "    max_count = 0\n",
    "    max_item = None\n",
    "    \n",
    "    for i in list:\n",
    "        if i not in count:\n",
    "            count[i] = 1\n",
    "        else:\n",
    "            count[i] += 1\n",
    "        if count[i] > max_count:\n",
    "            max_count = count[i]\n",
    "            \n",
    "            max_item = i\n",
    "    return max_item\n",
    "\n",
    "print(most_frequent([1,2,3,1,2,3,3,1,3,1,1,3,4,3,3,3,3,3,3]))"
   ]
  },
  {
   "cell_type": "code",
   "execution_count": 17,
   "id": "7d6e7c06",
   "metadata": {},
   "outputs": [
    {
     "name": "stdout",
     "output_type": "stream",
     "text": [
      "abcdefe\n",
      "6\n",
      "False\n"
     ]
    }
   ],
   "source": [
    "'''\n",
    "Given a string, are all characters unique by using sting built-in method\n",
    "Should give True or False\n",
    "'''\n",
    "\n",
    "def unique(string):\n",
    "    string = string.replace(' ', '')\n",
    "    print(string)\n",
    "    print(len(set(string)))\n",
    "    return len(set(string)) == len(string)\n",
    "\n",
    "print(unique('a b cdefe'))"
   ]
  },
  {
   "cell_type": "code",
   "execution_count": 25,
   "id": "ee35e609",
   "metadata": {},
   "outputs": [
    {
     "name": "stdout",
     "output_type": "stream",
     "text": [
      "abcdefe\n",
      "False\n"
     ]
    }
   ],
   "source": [
    "'''\n",
    "Given a string, are all characters unique without using sting built-in method\n",
    "Should give True or False\n",
    "'''\n",
    "def unique(string):\n",
    "    string = string.replace(' ', '')\n",
    "    print(string)\n",
    "    characters = set()\n",
    "    for letter in string:\n",
    "        if letter in characters:\n",
    "            return False\n",
    "        else:\n",
    "            characters.add(letter)\n",
    "    return True\n",
    "print(unique('a b cdefe'))"
   ]
  },
  {
   "cell_type": "code",
   "execution_count": 28,
   "id": "88634ca0",
   "metadata": {},
   "outputs": [
    {
     "name": "stdout",
     "output_type": "stream",
     "text": [
      "i\n"
     ]
    }
   ],
   "source": [
    "'''\n",
    "Take a string and return character that never repeats\n",
    "If multiple uniques return only first unique\n",
    "'''\n",
    "\n",
    "def non_repeating_first_element(string):\n",
    "    string = string.replace(' ','').lower() # Make lower as lower and upper are different\n",
    "    char_count = {}\n",
    "    \n",
    "    for char in string:\n",
    "        # If char in char_count increase the value of key by 1 if not assign the value as 1 as it's occuring first time\n",
    "        if char in char_count:\n",
    "            char_count[char] += 1\n",
    "        else:\n",
    "            char_count[char] = 1\n",
    "            \n",
    "    # Iteration to return character with only one count\n",
    "    for char in string:\n",
    "        if char_count[char] == 1:\n",
    "            return char\n",
    "    return None\n",
    "\n",
    "print(non_repeating_first_element('I Apple Ape Peels')) \n"
   ]
  },
  {
   "cell_type": "code",
   "execution_count": 44,
   "id": "deb580bf",
   "metadata": {},
   "outputs": [
    {
     "name": "stdout",
     "output_type": "stream",
     "text": [
      "xxx dict_items([('i', 1), ('a', 2), ('p', 4), ('l', 2), ('e', 4), ('s', 1)])\n",
      "y [('i', 1), ('s', 1), ('a', 2), ('l', 2), ('p', 4), ('e', 4)]\n",
      "item ('i', 1)\n",
      "item ('s', 1)\n",
      "item ('a', 2)\n",
      "item ('l', 2)\n",
      "item ('p', 4)\n",
      "item ('e', 4)\n",
      "All non repeating elements - [('i', 1), ('s', 1)]\n"
     ]
    }
   ],
   "source": [
    "'''\n",
    "Take a string and return character that never repeats\n",
    "If multiple uniques return all unique elements\n",
    "'''\n",
    "\n",
    "def non_repeating_all_element(string):\n",
    "    string = string.replace(' ','').lower() # Make lower as lower and upper are different\n",
    "    char_count = {}\n",
    "    \n",
    "    for char in string:\n",
    "        # If char in char_count increase the value of key by 1 if not assign the value as 1 as it's occuring first time\n",
    "        if char in char_count:\n",
    "            char_count[char] += 1\n",
    "        else:\n",
    "            char_count[char] = 1\n",
    "            \n",
    "    all_uniques = []\n",
    "    #Take the dictionary char_count and sort the items within in ascending order\n",
    "    print('xxx', char_count.items())\n",
    "    y = sorted(char_count.items(), key = lambda x:x[1])\n",
    "    print('y',y)\n",
    "    \n",
    "    for item in y:\n",
    "        print('item',item)\n",
    "        if item[1] == y[0][1]:\n",
    "            all_uniques.append(item)\n",
    "    return all_uniques\n",
    "    \n",
    "print('All non repeating elements -',non_repeating_all_element('I apple Ape Peels')) \n"
   ]
  },
  {
   "cell_type": "code",
   "execution_count": null,
   "id": "f1c2fac3",
   "metadata": {},
   "outputs": [],
   "source": []
  }
 ],
 "metadata": {
  "kernelspec": {
   "display_name": "Python 3 (ipykernel)",
   "language": "python",
   "name": "python3"
  },
  "language_info": {
   "codemirror_mode": {
    "name": "ipython",
    "version": 3
   },
   "file_extension": ".py",
   "mimetype": "text/x-python",
   "name": "python",
   "nbconvert_exporter": "python",
   "pygments_lexer": "ipython3",
   "version": "3.7.9"
  }
 },
 "nbformat": 4,
 "nbformat_minor": 5
}
