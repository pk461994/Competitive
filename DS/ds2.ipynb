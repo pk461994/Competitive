{
 "cells": [
  {
   "cell_type": "code",
   "execution_count": 1,
   "id": "14ade9bd",
   "metadata": {},
   "outputs": [
    {
     "name": "stdout",
     "output_type": "stream",
     "text": [
      "\u001b[33mDEPRECATION: Python 2.7 will reach the end of its life on January 1st, 2020. Please upgrade your Python as Python 2.7 won't be maintained after that date. A future version of pip will drop support for Python 2.7. More details about Python 2 support in pip, can be found at https://pip.pypa.io/en/latest/development/release-process/#python-2-support\u001b[0m\n",
      "\u001b[33mWARNING: You are using pip version 19.2.3, however version 20.3.4 is available.\n",
      "You should consider upgrading via the 'pip install --upgrade pip' command.\u001b[0m\n"
     ]
    }
   ],
   "source": [
    "!pip install jovian --upgrade --quiet"
   ]
  },
  {
   "cell_type": "code",
   "execution_count": 2,
   "id": "c7b1167b",
   "metadata": {},
   "outputs": [
    {
     "ename": "NameError",
     "evalue": "name 'python' is not defined",
     "output_type": "error",
     "traceback": [
      "\u001b[0;31m---------------------------------------------------------------------------\u001b[0m",
      "\u001b[0;31mNameError\u001b[0m                                 Traceback (most recent call last)",
      "\u001b[0;32m/var/folders/l6/mh65z8y50b9ctlsdjqr534y80000gp/T/ipykernel_10596/1576056767.py\u001b[0m in \u001b[0;36m<module>\u001b[0;34m\u001b[0m\n\u001b[0;32m----> 1\u001b[0;31m \u001b[0mpython\u001b[0m \u001b[0;34m-\u001b[0m\u001b[0;34m-\u001b[0m\u001b[0mversion\u001b[0m\u001b[0;34m\u001b[0m\u001b[0;34m\u001b[0m\u001b[0m\n\u001b[0m",
      "\u001b[0;31mNameError\u001b[0m: name 'python' is not defined"
     ]
    }
   ],
   "source": [
    "python --version"
   ]
  },
  {
   "cell_type": "code",
   "execution_count": 3,
   "id": "d9215b9d",
   "metadata": {},
   "outputs": [],
   "source": [
    "!pip3 install jovian --upgrade --quiet"
   ]
  },
  {
   "cell_type": "code",
   "execution_count": 4,
   "id": "48eddf0b",
   "metadata": {},
   "outputs": [],
   "source": [
    "import jovian"
   ]
  },
  {
   "cell_type": "code",
   "execution_count": 5,
   "id": "dd33635e",
   "metadata": {},
   "outputs": [],
   "source": [
    "project='python-binary-search-assignment'"
   ]
  },
  {
   "cell_type": "code",
   "execution_count": 6,
   "id": "4dbd9769",
   "metadata": {},
   "outputs": [
    {
     "data": {
      "text/plain": [
       "'python-binary-search-assignment'"
      ]
     },
     "execution_count": 6,
     "metadata": {},
     "output_type": "execute_result"
    }
   ],
   "source": [
    "project"
   ]
  },
  {
   "cell_type": "code",
   "execution_count": 7,
   "id": "e80cf7ad",
   "metadata": {},
   "outputs": [
    {
     "data": {
      "application/javascript": [
       "window.require && require([\"base/js/namespace\"],function(Jupyter){Jupyter.notebook.save_checkpoint()})"
      ],
      "text/plain": [
       "<IPython.core.display.Javascript object>"
      ]
     },
     "metadata": {},
     "output_type": "display_data"
    },
    {
     "name": "stdout",
     "output_type": "stream",
     "text": [
      "[jovian] Please enter your API key ( from https://jovian.ai/ ):\u001b[0m\n",
      "API KEY: ········\n",
      "[jovian] Creating a new project \"pk461994/python-binary-search-assignment\"\u001b[0m\n",
      "[jovian] Committed successfully! https://jovian.ai/pk461994/python-binary-search-assignment\u001b[0m\n"
     ]
    },
    {
     "data": {
      "text/plain": [
       "'https://jovian.ai/pk461994/python-binary-search-assignment'"
      ]
     },
     "execution_count": 7,
     "metadata": {},
     "output_type": "execute_result"
    }
   ],
   "source": [
    "jovian.commit(project=project, privacy='secret', environment=None)"
   ]
  },
  {
   "cell_type": "code",
   "execution_count": null,
   "id": "d04628c3",
   "metadata": {},
   "outputs": [],
   "source": [
    "'''\n",
    "You are given list of numbers, obtained by rotating a sorted list an unknown number of times. Write a function to determine the minimum number of times the original sorted list was rotated to obtain the given list. Your function should have the worst-case complexity of O(log N), where N is the length of the list. You can assume that all the numbers in the list are unique.\n",
    "\n",
    "Example: The list [5, 6, 9, 0, 2, 3, 4] was obtained by rotating the sorted list [0, 2, 3, 4, 5, 6, 9] 3 times.\n",
    "\n",
    "We define \"rotating a list\" as removing the last element of the list and adding it before the first element. E.g. rotating the list [3, 2, 4, 1] produces [1, 3, 2, 4].\n",
    "\n",
    "\"Sorted list\" refers to a list where the elements are arranged in the increasing order e.g. [1, 3, 5, 7].\n",
    "'''"
   ]
  },
  {
   "cell_type": "code",
   "execution_count": null,
   "id": "75615ed6",
   "metadata": {},
   "outputs": [],
   "source": [
    "'''\n",
    "Given the rotated sorted list that was rotated some unknow number of times, we need to find the number of times it was rotated\n",
    "\n",
    "The function you write will take one input called nums. What does it represent? Give an example.\n",
    "`nums`: A sorted list e.g, `[7,9,3,5,6]`\n",
    "\n",
    "\n",
    "The function you write will return a single output called rotations. What does it represent? Give an example\n",
    "`rotations`: The number of times the sorted list was rotated. `2`\n",
    "'''"
   ]
  },
  {
   "cell_type": "code",
   "execution_count": 12,
   "id": "50efd9b7",
   "metadata": {},
   "outputs": [],
   "source": [
    "# Based on above we can create the signature of the function\n",
    "\n",
    "def count_rotations(nums):\n",
    "    pass"
   ]
  },
  {
   "cell_type": "code",
   "execution_count": 13,
   "id": "a2aa2f7a",
   "metadata": {},
   "outputs": [
    {
     "data": {
      "application/javascript": [
       "window.require && require([\"base/js/namespace\"],function(Jupyter){Jupyter.notebook.save_checkpoint()})"
      ],
      "text/plain": [
       "<IPython.core.display.Javascript object>"
      ]
     },
     "metadata": {},
     "output_type": "display_data"
    },
    {
     "name": "stdout",
     "output_type": "stream",
     "text": [
      "[jovian] Updating notebook \"pk461994/python-binary-search-assignment\" on https://jovian.ai/\u001b[0m\n",
      "[jovian] Committed successfully! https://jovian.ai/pk461994/python-binary-search-assignment\u001b[0m\n"
     ]
    },
    {
     "data": {
      "text/plain": [
       "'https://jovian.ai/pk461994/python-binary-search-assignment'"
      ]
     },
     "execution_count": 13,
     "metadata": {},
     "output_type": "execute_result"
    }
   ],
   "source": [
    "jovian.commit(project=project)"
   ]
  },
  {
   "cell_type": "code",
   "execution_count": 15,
   "id": "f6d19820",
   "metadata": {},
   "outputs": [],
   "source": [
    "'''\n",
    "Our function should be able to handle any set of valid inputs we pass into it. Here's a list of some possible variations we might encounter:\n",
    "\n",
    "A list of size 10 rotated 3 times.\n",
    "A list of size 8 rotated 5 times.\n",
    "A list that wasn't rotated at all.\n",
    "A list that was rotated just once.\n",
    "A list that was rotated n-1 times, where n is the size of the list.\n",
    "A list that was rotated n times (do you get back the original list here?)\n",
    "An empty list.\n",
    "A list containing just one element.\n",
    "(can you think of any more?)\n",
    "We'll express our test cases as dictionaries, to test them easily. \n",
    "Each dictionary will contain 2 keys: input (a dictionary itself containing one key for each argument to the function and output (the expected result from the function)\n",
    "'''\n",
    "\n",
    "test = {\n",
    "    'input': {\n",
    "        'nums': [19, 25, 29, 3, 5, 6, 7, 9, 11, 14]\n",
    "    },\n",
    "    'output': 3\n",
    "}"
   ]
  },
  {
   "cell_type": "code",
   "execution_count": 17,
   "id": "5fa2b99b",
   "metadata": {},
   "outputs": [
    {
     "data": {
      "text/plain": [
       "(None, False)"
      ]
     },
     "execution_count": 17,
     "metadata": {},
     "output_type": "execute_result"
    }
   ],
   "source": [
    "nums0 = test['input']['nums']\n",
    "output0 = test['output']\n",
    "result0 = count_rotations(nums0)\n",
    "\n",
    "result0, result0 == output0"
   ]
  },
  {
   "cell_type": "code",
   "execution_count": 18,
   "id": "c392da19",
   "metadata": {},
   "outputs": [],
   "source": [
    "test0 = test"
   ]
  },
  {
   "cell_type": "code",
   "execution_count": 19,
   "id": "05f81c7a",
   "metadata": {},
   "outputs": [],
   "source": [
    "# A list of size 8 rotated 5 times.\n",
    "test1 = {\n",
    "    'input': {\n",
    "        'nums': [4, 5, 6, 7, 8, 1, 2, 3]\n",
    "    },\n",
    "    'output': 5\n",
    "}"
   ]
  },
  {
   "cell_type": "code",
   "execution_count": 20,
   "id": "f4032db1",
   "metadata": {},
   "outputs": [],
   "source": [
    "# A list that wasn't rotated at all.\n",
    "test2 = {\n",
    "    'input': {\n",
    "        'nums': [1, 2, 3, 4, 5, 6, 7, 8]\n",
    "    },\n",
    "    'output': 0\n",
    "}"
   ]
  },
  {
   "cell_type": "code",
   "execution_count": 21,
   "id": "7920671b",
   "metadata": {},
   "outputs": [],
   "source": [
    "# A list that was rotated just once.\n",
    "test3 = {\n",
    "    'input': {\n",
    "        'nums': [7, 3, 5]\n",
    "    },\n",
    "    'output': 1\n",
    "}"
   ]
  },
  {
   "cell_type": "code",
   "execution_count": null,
   "id": "b0b2c989",
   "metadata": {},
   "outputs": [],
   "source": []
  }
 ],
 "metadata": {
  "kernelspec": {
   "display_name": "Python 3 (ipykernel)",
   "language": "python",
   "name": "python3"
  },
  "language_info": {
   "codemirror_mode": {
    "name": "ipython",
    "version": 3
   },
   "file_extension": ".py",
   "mimetype": "text/x-python",
   "name": "python",
   "nbconvert_exporter": "python",
   "pygments_lexer": "ipython3",
   "version": "3.7.9"
  }
 },
 "nbformat": 4,
 "nbformat_minor": 5
}
