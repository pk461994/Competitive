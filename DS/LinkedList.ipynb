{
 "cells": [
  {
   "cell_type": "code",
   "execution_count": 11,
   "id": "e61d3166",
   "metadata": {},
   "outputs": [
    {
     "name": "stdout",
     "output_type": "stream",
     "text": [
      "Requirement already satisfied: linkedlist in /Library/Frameworks/Python.framework/Versions/3.7/lib/python3.7/site-packages (2.0.0)\n",
      "Collecting linked_list\n",
      "  Using cached linked_list-0.0.7.tar.gz (2.9 kB)\n",
      "  Preparing metadata (setup.py) ... \u001b[?25ldone\n",
      "\u001b[?25hUsing legacy 'setup.py install' for linked_list, since package 'wheel' is not installed.\n",
      "Installing collected packages: linked_list\n",
      "  Running setup.py install for linked_list ... \u001b[?25ldone\n",
      "\u001b[?25hSuccessfully installed linked_list-0.0.7\n"
     ]
    }
   ],
   "source": [
    "!pip3 install linkedlist\n",
    "!pip3 install linked_list"
   ]
  },
  {
   "cell_type": "code",
   "execution_count": 20,
   "id": "376188b2",
   "metadata": {},
   "outputs": [
    {
     "name": "stdout",
     "output_type": "stream",
     "text": [
      "15 -> 10 -> 5 -> Null\n"
     ]
    }
   ],
   "source": [
    "class Node(object):\n",
    "    def __init__(self, data, next=None):\n",
    "        self.data = data\n",
    "        self.next = next\n",
    "\n",
    "class LinkedList(object):\n",
    "    def __init__(self):\n",
    "        self.head = None\n",
    "    \n",
    "    def printList(self):\n",
    "        temp = self.head\n",
    "        while temp:\n",
    "            print(f'{temp.data} ->', end = ' ')\n",
    "            temp = temp.next\n",
    "        print('Null')\n",
    "    \n",
    "    def insert_at_start(self, data):\n",
    "        if self.head == None:\n",
    "            newNode = Node(data)\n",
    "            self.head = newNode\n",
    "        else:\n",
    "            newNode = Node(data)\n",
    "            newNode.next = self.head\n",
    "            self.head = newNode\n",
    "            \n",
    "List = LinkedList()\n",
    "List.insert_at_start(5)\n",
    "List.insert_at_start(10)\n",
    "List.insert_at_start(15)\n",
    "\n",
    "List.printList()"
   ]
  },
  {
   "cell_type": "code",
   "execution_count": null,
   "id": "4a089c7d",
   "metadata": {},
   "outputs": [],
   "source": []
  }
 ],
 "metadata": {
  "kernelspec": {
   "display_name": "Python 3 (ipykernel)",
   "language": "python",
   "name": "python3"
  },
  "language_info": {
   "codemirror_mode": {
    "name": "ipython",
    "version": 3
   },
   "file_extension": ".py",
   "mimetype": "text/x-python",
   "name": "python",
   "nbconvert_exporter": "python",
   "pygments_lexer": "ipython3",
   "version": "3.7.9"
  }
 },
 "nbformat": 4,
 "nbformat_minor": 5
}
