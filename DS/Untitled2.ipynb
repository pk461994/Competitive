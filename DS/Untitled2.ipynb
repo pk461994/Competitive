{
 "cells": [
  {
   "cell_type": "code",
   "execution_count": 3,
   "id": "a90a6584",
   "metadata": {},
   "outputs": [
    {
     "data": {
      "text/plain": [
       "55"
      ]
     },
     "execution_count": 3,
     "metadata": {},
     "output_type": "execute_result"
    }
   ],
   "source": [
    "def sum1(n):\n",
    "    #Take an input of n and return the sum of numbers from 0 to n\n",
    "    final_sum = 0\n",
    "    for num in range(n+1):\n",
    "        final_sum += num\n",
    "    return final_sum\n",
    "sum1(10)"
   ]
  },
  {
   "cell_type": "code",
   "execution_count": 7,
   "id": "fed62bba",
   "metadata": {},
   "outputs": [
    {
     "data": {
      "text/plain": [
       "55.0"
      ]
     },
     "execution_count": 7,
     "metadata": {},
     "output_type": "execute_result"
    }
   ],
   "source": [
    "def sum2(n):\n",
    "    #Take an input of n and return the sum of numbers from 0 to n using PEMDAS\n",
    "    return (n*(n+1)/2)\n",
    "sum2(10)"
   ]
  },
  {
   "cell_type": "code",
   "execution_count": 5,
   "id": "e671415f",
   "metadata": {},
   "outputs": [
    {
     "name": "stdout",
     "output_type": "stream",
     "text": [
      "44.5 µs ± 308 ns per loop (mean ± std. dev. of 7 runs, 10000 loops each)\n"
     ]
    }
   ],
   "source": [
    "%timeit sum1(1000)\n",
    "#Result in microseconds per loop 10^-6"
   ]
  },
  {
   "cell_type": "code",
   "execution_count": 9,
   "id": "e2b1ce9a",
   "metadata": {},
   "outputs": [
    {
     "name": "stdout",
     "output_type": "stream",
     "text": [
      "113 ns ± 0.442 ns per loop (mean ± std. dev. of 7 runs, 10000000 loops each)\n"
     ]
    }
   ],
   "source": [
    "%timeit sum2(1000)\n",
    "#Result in nanoseconds per loop 10^-9"
   ]
  },
  {
   "cell_type": "code",
   "execution_count": 10,
   "id": "25ae8cdb",
   "metadata": {},
   "outputs": [
    {
     "data": {
      "text/plain": [
       "84"
      ]
     },
     "execution_count": 10,
     "metadata": {},
     "output_type": "execute_result"
    }
   ],
   "source": [
    "def Bigo(n):\n",
    "    return 45*n**3 + 20*n**2 +19\n",
    "Bigo(1)"
   ]
  },
  {
   "cell_type": "code",
   "execution_count": 14,
   "id": "2f6485c7",
   "metadata": {},
   "outputs": [
    {
     "data": {
      "text/plain": [
       "459"
      ]
     },
     "execution_count": 14,
     "metadata": {},
     "output_type": "execute_result"
    }
   ],
   "source": [
    "Bigo(2)\n",
    "#Starting to see that 19 will not be a scaling or limiting factor"
   ]
  },
  {
   "cell_type": "code",
   "execution_count": 17,
   "id": "b433f310",
   "metadata": {},
   "outputs": [
    {
     "data": {
      "text/plain": [
       "47019"
      ]
     },
     "execution_count": 17,
     "metadata": {},
     "output_type": "execute_result"
    }
   ],
   "source": [
    "Bigo(10)\n",
    "'''\n",
    "It can be seen than 19 doesn't hold much weight anymore.\n",
    "We ignore constants and focus on n**2 and n**3\n",
    "The part of this algo that really has to do with the final answer as data scales, will not\n",
    "be the 45 but the n**3. So this algo has an order of n**3. O(n**3)\n",
    "'''\n",
    "\n",
    "#BigO examples below"
   ]
  },
  {
   "cell_type": "code",
   "execution_count": 19,
   "id": "19537fbc",
   "metadata": {},
   "outputs": [
    {
     "name": "stdout",
     "output_type": "stream",
     "text": [
      "1\n"
     ]
    }
   ],
   "source": [
    "#O(1) constant\n",
    "\n",
    "def func_constant(values):\n",
    "    #print first item in the list of values'\n",
    "    print(values[0])\n",
    "func_constant([1,2,3,4,5,6,7,8,9,10])\n",
    "\n",
    "#the size of values list doesn't matter  as we're only getting first index"
   ]
  },
  {
   "cell_type": "code",
   "execution_count": 21,
   "id": "3d16367d",
   "metadata": {},
   "outputs": [
    {
     "name": "stdout",
     "output_type": "stream",
     "text": [
      "1\n",
      "2\n",
      "3\n"
     ]
    }
   ],
   "source": [
    "#O(n) Linear\n",
    "\n",
    "def func_lin(lst):\n",
    "    #Takes in list and print out all the values\n",
    "    for val in lst:\n",
    "        print(val)\n",
    "func_lin([1,2,3])\n",
    "\n",
    "#Every value of the list will be printed. So the larger the list gets the larger the BigO\n",
    "#This algo will scale linearly with n"
   ]
  },
  {
   "cell_type": "code",
   "execution_count": 23,
   "id": "28d40fba",
   "metadata": {},
   "outputs": [
    {
     "name": "stdout",
     "output_type": "stream",
     "text": [
      "1 1\n",
      "1 2\n",
      "1 3\n",
      "1 4\n",
      "1 5\n",
      "1 6\n",
      "2 1\n",
      "2 2\n",
      "2 3\n",
      "2 4\n",
      "2 5\n",
      "2 6\n",
      "3 1\n",
      "3 2\n",
      "3 3\n",
      "3 4\n",
      "3 5\n",
      "3 6\n",
      "4 1\n",
      "4 2\n",
      "4 3\n",
      "4 4\n",
      "4 5\n",
      "4 6\n",
      "5 1\n",
      "5 2\n",
      "5 3\n",
      "5 4\n",
      "5 5\n",
      "5 6\n",
      "6 1\n",
      "6 2\n",
      "6 3\n",
      "6 4\n",
      "6 5\n",
      "6 6\n"
     ]
    }
   ],
   "source": [
    "# O(n^2) Quadratic\n",
    "\n",
    "def func_quad(lst):\n",
    "    #Print pairs for every item in list\n",
    "    for item_1 in lst:\n",
    "        for item_2 in lst:\n",
    "            print(item_1, item_2)\n",
    "lst = [1,2,3,4,5,6]\n",
    "func_quad(lst)\n",
    "\n",
    "'''\n",
    "2 loops one nested inside other. \n",
    "For a list of n items, we always have to perform n operation for each item in list.\n",
    "In total, we will do n items n assignments or n^2. This can be dangerous for bigger inputs.\n",
    "Like input of 6 will give 36 operations.\n",
    "'''"
   ]
  },
  {
   "cell_type": "code",
   "execution_count": 24,
   "id": "8a0f738c",
   "metadata": {},
   "outputs": [
    {
     "name": "stdout",
     "output_type": "stream",
     "text": [
      "1\n",
      "1\n",
      "2\n",
      "3\n",
      "4\n",
      "5\n",
      "0\n",
      "1\n",
      "2\n",
      "3\n",
      "4\n",
      "5\n",
      "6\n",
      "7\n",
      "8\n",
      "9\n"
     ]
    }
   ],
   "source": [
    "def comp(lst):\n",
    "    '''\n",
    "    This print the fist item O(1) It is constant\n",
    "    Then it prints the first 1/2 of the list O(n/2)\n",
    "    Then it prints the string 10 times O(10) It is constant\n",
    "    '''\n",
    "    print(lst[0])\n",
    "    \n",
    "    mid = len(lst)//2\n",
    "    for item in lst[:mid]:\n",
    "        print(item)\n",
    "    for x in range(10):\n",
    "        print(x)\n",
    "lst = [1,2,3,4,5,6,7,8,9,10]\n",
    "comp(lst)\n",
    "\n",
    "'''\n",
    "O(1 + n/2 +10)\n",
    "As n get large and larger we can see how 1 and 10 quickly begin to mean nothing\n",
    "And the //2 will also have no effect either\n",
    "End up with O(n) with linear growth rate\n",
    "'''"
   ]
  },
  {
   "cell_type": "code",
   "execution_count": 26,
   "id": "5a353506",
   "metadata": {},
   "outputs": [],
   "source": [
    "def matcher(lst, match):\n",
    "    for item in lst:\n",
    "        if item == match:\n",
    "            return True\n",
    "    return False\n",
    "lst= [1,2,3,4,5,6,7,8,9,10]"
   ]
  },
  {
   "cell_type": "code",
   "execution_count": 27,
   "id": "a2032393",
   "metadata": {},
   "outputs": [
    {
     "data": {
      "text/plain": [
       "True"
      ]
     },
     "execution_count": 27,
     "metadata": {},
     "output_type": "execute_result"
    }
   ],
   "source": [
    "matcher(lst, 1) #Best case as the match is the 1st element of the lst"
   ]
  },
  {
   "cell_type": "code",
   "execution_count": 28,
   "id": "955a1b63",
   "metadata": {},
   "outputs": [
    {
     "data": {
      "text/plain": [
       "False"
      ]
     },
     "execution_count": 28,
     "metadata": {},
     "output_type": "execute_result"
    }
   ],
   "source": [
    "matcher(lst, 20) #Worst case as the entire lst needs to be searched"
   ]
  },
  {
   "cell_type": "code",
   "execution_count": null,
   "id": "6e9ea8dc",
   "metadata": {},
   "outputs": [],
   "source": []
  }
 ],
 "metadata": {
  "kernelspec": {
   "display_name": "Python 3 (ipykernel)",
   "language": "python",
   "name": "python3"
  },
  "language_info": {
   "codemirror_mode": {
    "name": "ipython",
    "version": 3
   },
   "file_extension": ".py",
   "mimetype": "text/x-python",
   "name": "python",
   "nbconvert_exporter": "python",
   "pygments_lexer": "ipython3",
   "version": "3.7.9"
  }
 },
 "nbformat": 4,
 "nbformat_minor": 5
}
